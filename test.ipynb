{
 "cells": [
  {
   "cell_type": "code",
   "execution_count": 22,
   "metadata": {},
   "outputs": [
    {
     "data": {
      "text/plain": [
       "'dasd ad asd \\\\ST{das}{vc}vc dsa \\\\ST{dsd}{adsdddd}'"
      ]
     },
     "execution_count": 22,
     "metadata": {},
     "output_type": "execute_result"
    }
   ],
   "source": [
    "import re\n",
    "\n",
    "test_string = \"dasd \\ST{egre\\ST{dasd}{}}{ad} asd \\ST{das}{vc}vc dsa \\ST{dsd}{adsdddd}\"\n",
    "key_word = '\\ST'\n",
    "\n",
    "def remove_comment(string,key):\n",
    "    index = string.find(key)\n",
    "    count = 0\n",
    "    i = 0\n",
    "    while (count != 0) | (i == 0):\n",
    "        if string[index + 3 + i] == r'{':\n",
    "            count += 1\n",
    "        elif string[index + 3 + i] == r'}':\n",
    "            count -= 1\n",
    "        i += 1\n",
    "\n",
    "    string_before_comment = string[:index] \n",
    "    count = 0\n",
    "    j = 0\n",
    "    while (count != 0) | (j == 0):\n",
    "        if string[index + 3 + i + j] == r'{':\n",
    "            count += 1\n",
    "        elif string[index + 3 + i + j] == r'}':\n",
    "            count -= 1\n",
    "        j += 1\n",
    "\n",
    "    mid_string = string[index + 3 + i + 1: index + 3 + i + j - 1]\n",
    "    string_after_comment = string[index + 3 + i + j:]\n",
    "\n",
    "    return string_before_comment + mid_string + string_after_comment\n",
    "\n",
    "\n",
    "remove_comment(test_string, key_word)"
   ]
  },
  {
   "cell_type": "code",
   "execution_count": null,
   "metadata": {},
   "outputs": [],
   "source": []
  }
 ],
 "metadata": {
  "kernelspec": {
   "display_name": "Python 3.10.5 64-bit",
   "language": "python",
   "name": "python3"
  },
  "language_info": {
   "codemirror_mode": {
    "name": "ipython",
    "version": 3
   },
   "file_extension": ".py",
   "mimetype": "text/x-python",
   "name": "python",
   "nbconvert_exporter": "python",
   "pygments_lexer": "ipython3",
   "version": "3.10.5"
  },
  "orig_nbformat": 4,
  "vscode": {
   "interpreter": {
    "hash": "a73b654a66f3d2fac43c10e7057253c3d4fa56c9855354f4cffc5c2acd90e004"
   }
  }
 },
 "nbformat": 4,
 "nbformat_minor": 2
}
