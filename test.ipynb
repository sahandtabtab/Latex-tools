{
 "cells": [
  {
   "cell_type": "code",
   "execution_count": 2,
   "metadata": {},
   "outputs": [
    {
     "name": "stdout",
     "output_type": "stream",
     "text": [
      "[6, 14, 35, 54]\n",
      "\\ST{egre\\\n",
      "\\ST{dasd}{}}{ad} asd \\\n",
      "\\ST{das}{vc}vc dsa \\\n",
      "\\ST{dsd}{adsdddd}\n"
     ]
    }
   ],
   "source": [
    "import re\n",
    "\n",
    "test_string = \"dasd \\ST{egre\\ST{dasd}{}}{ad} asd \\ST{das}{vc}vc dsa \\ST{dsd}{adsdddd}\"\n",
    "key_word = '\\ST'\n",
    "\n",
    "occurances = [m.start() for m in re.finditer(key_word, test_string)]\n",
    "parts = [test_string[i-1:j] for i,j in zip(occurances, occurances[1:]+[None])]\n",
    "\n",
    "print(occurances)\n",
    "[print(part) for part in parts];"
   ]
  },
  {
   "cell_type": "code",
   "execution_count": null,
   "metadata": {},
   "outputs": [],
   "source": []
  }
 ],
 "metadata": {
  "kernelspec": {
   "display_name": "Python 3.10.5 64-bit",
   "language": "python",
   "name": "python3"
  },
  "language_info": {
   "codemirror_mode": {
    "name": "ipython",
    "version": 3
   },
   "file_extension": ".py",
   "mimetype": "text/x-python",
   "name": "python",
   "nbconvert_exporter": "python",
   "pygments_lexer": "ipython3",
   "version": "3.10.5"
  },
  "orig_nbformat": 4,
  "vscode": {
   "interpreter": {
    "hash": "a73b654a66f3d2fac43c10e7057253c3d4fa56c9855354f4cffc5c2acd90e004"
   }
  }
 },
 "nbformat": 4,
 "nbformat_minor": 2
}
