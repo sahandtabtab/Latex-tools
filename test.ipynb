{
 "cells": [
  {
   "cell_type": "code",
   "execution_count": 30,
   "metadata": {},
   "outputs": [
    {
     "data": {
      "text/plain": [
       "('dasd ad asd vcvc dsa \\\\RB{dsd}{adsdddd} zzcxc \\\\HH{bvbv}{\\\\RB{vcv}{ds}}mmm',\n",
       " {'\\\\ST{egre\\\\ST{dasd}{}}{ad}': 'ad', '\\\\ST{das}{vc}': 'vc'})"
      ]
     },
     "execution_count": 30,
     "metadata": {},
     "output_type": "execute_result"
    }
   ],
   "source": [
    "test_string = \"dasd \\ST{egre\\ST{dasd}{}}{ad} asd \\ST{das}{vc}vc dsa \\RB{dsd}{adsdddd} zzcxc \\HH{bvbv}{\\RB{vcv}{ds}}mmm\"\n",
    "#test_string = \"dasd\"\n",
    "key_words = ['\\ST']\n",
    "\n",
    "def remove_single_comment(string, key):\n",
    "\n",
    "    key_word_length = len(key)\n",
    "\n",
    "    index = string.find(key)\n",
    "\n",
    "    if index == -1:\n",
    "        return string, {}, index\n",
    "    else:\n",
    "        count = 0\n",
    "        i = 0\n",
    "        while (count != 0) | (i == 0):\n",
    "            if string[index + key_word_length + i] == r'{':\n",
    "                count += 1\n",
    "            elif string[index + key_word_length + i] == r'}':\n",
    "                count -= 1\n",
    "            i += 1\n",
    "\n",
    "        count = 0\n",
    "        j = 0\n",
    "        while (count != 0) | (j == 0):\n",
    "            if string[index + key_word_length + i + j] == r'{':\n",
    "                count += 1\n",
    "            elif string[index + key_word_length + i + j] == r'}':\n",
    "                count -= 1\n",
    "            j += 1\n",
    "\n",
    "        string_before_comment = string[:index]\n",
    "        mid_string = string[index + key_word_length + i + 1: index + key_word_length + i + j - 1]\n",
    "        string_after_comment = string[index + key_word_length + i + j:]\n",
    "        new_string = string_before_comment + mid_string + string_after_comment\n",
    "\n",
    "        change = {string[index:index + key_word_length + i + j]:mid_string}\n",
    "\n",
    "        return new_string, change, index\n",
    "\n",
    "def remove_comments(string, keys):\n",
    "    index = 0\n",
    "    new_string = string\n",
    "    changes = {}\n",
    "\n",
    "    for key in keys:\n",
    "        while index != -1:\n",
    "            new_string, new_change, index = remove_single_comment(new_string, key)\n",
    "            changes = changes | new_change\n",
    "        index = 0\n",
    "    return new_string, changes\n",
    "\n",
    "\n",
    "remove_comments(test_string, key_words)"
   ]
  },
  {
   "cell_type": "code",
   "execution_count": 7,
   "metadata": {},
   "outputs": [
    {
     "name": "stdout",
     "output_type": "stream",
     "text": [
      "dasd ad asd vcvc dsa adsdddd zzcxc dsmmm\n",
      "dasd \\ST{egre\\ST{dasd}{}}{ad} asd \\ST{das}{vc}vc dsa \\RB{dsd}{adsdddd} zzcxc \\HH{bvbv}{\\RB{vcv}{ds}}mmm\n"
     ]
    }
   ],
   "source": [
    "print(\n",
    "    remove_comments(test_string, key_words)[0]\n",
    ")\n",
    "print(test_string)"
   ]
  },
  {
   "cell_type": "code",
   "execution_count": 27,
   "metadata": {},
   "outputs": [
    {
     "name": "stdout",
     "output_type": "stream",
     "text": [
      "\\RB\n"
     ]
    }
   ],
   "source": [
    "initials = ['RB', 'ST', 'HH']\n",
    "print([fr'\\{initial}' for initial in initials][0])"
   ]
  },
  {
   "cell_type": "code",
   "execution_count": 31,
   "metadata": {},
   "outputs": [
    {
     "name": "stdout",
     "output_type": "stream",
     "text": [
      "['\\\\ST']\n"
     ]
    }
   ],
   "source": [
    "print(key_words)"
   ]
  },
  {
   "cell_type": "code",
   "execution_count": null,
   "metadata": {},
   "outputs": [],
   "source": []
  }
 ],
 "metadata": {
  "kernelspec": {
   "display_name": "Python 3.10.5 64-bit",
   "language": "python",
   "name": "python3"
  },
  "language_info": {
   "codemirror_mode": {
    "name": "ipython",
    "version": 3
   },
   "file_extension": ".py",
   "mimetype": "text/x-python",
   "name": "python",
   "nbconvert_exporter": "python",
   "pygments_lexer": "ipython3",
   "version": "3.10.5"
  },
  "orig_nbformat": 4,
  "vscode": {
   "interpreter": {
    "hash": "a73b654a66f3d2fac43c10e7057253c3d4fa56c9855354f4cffc5c2acd90e004"
   }
  }
 },
 "nbformat": 4,
 "nbformat_minor": 2
}
